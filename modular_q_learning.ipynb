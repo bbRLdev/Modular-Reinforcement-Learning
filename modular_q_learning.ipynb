{
  "nbformat": 4,
  "nbformat_minor": 0,
  "metadata": {
    "colab": {
      "name": "modular_q_learning.ipynb",
      "provenance": [],
      "collapsed_sections": [
        "q5eQ74c-kREZ",
        "JCNNelAAlAxy",
        "RAWbQoFZYFHn"
      ],
      "include_colab_link": true
    },
    "kernelspec": {
      "display_name": "Python 3",
      "name": "python3"
    },
    "language_info": {
      "name": "python"
    },
    "widgets": {
      "application/vnd.jupyter.widget-state+json": {
        "12d06d6dc3d24628b8b9334439fd409d": {
          "model_module": "@jupyter-widgets/controls",
          "model_name": "HBoxModel",
          "model_module_version": "1.5.0",
          "state": {
            "_view_name": "HBoxView",
            "_dom_classes": [],
            "_model_name": "HBoxModel",
            "_view_module": "@jupyter-widgets/controls",
            "_model_module_version": "1.5.0",
            "_view_count": null,
            "_view_module_version": "1.5.0",
            "box_style": "",
            "layout": "IPY_MODEL_05c1e2277f5c47f580047289adad80f0",
            "_model_module": "@jupyter-widgets/controls",
            "children": [
              "IPY_MODEL_5665c7c2634d4c74ae452faf756ed79b",
              "IPY_MODEL_03e21291e2974e4a9d0c423427cdb1c4",
              "IPY_MODEL_44f2424c83df4b73b575af7b55b7fd73"
            ]
          }
        },
        "05c1e2277f5c47f580047289adad80f0": {
          "model_module": "@jupyter-widgets/base",
          "model_name": "LayoutModel",
          "model_module_version": "1.2.0",
          "state": {
            "_view_name": "LayoutView",
            "grid_template_rows": null,
            "right": null,
            "justify_content": null,
            "_view_module": "@jupyter-widgets/base",
            "overflow": null,
            "_model_module_version": "1.2.0",
            "_view_count": null,
            "flex_flow": null,
            "width": null,
            "min_width": null,
            "border": null,
            "align_items": null,
            "bottom": null,
            "_model_module": "@jupyter-widgets/base",
            "top": null,
            "grid_column": null,
            "overflow_y": null,
            "overflow_x": null,
            "grid_auto_flow": null,
            "grid_area": null,
            "grid_template_columns": null,
            "flex": null,
            "_model_name": "LayoutModel",
            "justify_items": null,
            "grid_row": null,
            "max_height": null,
            "align_content": null,
            "visibility": null,
            "align_self": null,
            "height": null,
            "min_height": null,
            "padding": null,
            "grid_auto_rows": null,
            "grid_gap": null,
            "max_width": null,
            "order": null,
            "_view_module_version": "1.2.0",
            "grid_template_areas": null,
            "object_position": null,
            "object_fit": null,
            "grid_auto_columns": null,
            "margin": null,
            "display": null,
            "left": null
          }
        },
        "5665c7c2634d4c74ae452faf756ed79b": {
          "model_module": "@jupyter-widgets/controls",
          "model_name": "HTMLModel",
          "model_module_version": "1.5.0",
          "state": {
            "_view_name": "HTMLView",
            "style": "IPY_MODEL_4852b116b787481a9cdc00b930b3e8bf",
            "_dom_classes": [],
            "description": "",
            "_model_name": "HTMLModel",
            "placeholder": "​",
            "_view_module": "@jupyter-widgets/controls",
            "_model_module_version": "1.5.0",
            "value": "100%",
            "_view_count": null,
            "_view_module_version": "1.5.0",
            "description_tooltip": null,
            "_model_module": "@jupyter-widgets/controls",
            "layout": "IPY_MODEL_61183f50e4734602a199d89e7c7c4955"
          }
        },
        "03e21291e2974e4a9d0c423427cdb1c4": {
          "model_module": "@jupyter-widgets/controls",
          "model_name": "FloatProgressModel",
          "model_module_version": "1.5.0",
          "state": {
            "_view_name": "ProgressView",
            "style": "IPY_MODEL_bb4e56b1db6e4167a7d211a3b316d4e4",
            "_dom_classes": [],
            "description": "",
            "_model_name": "FloatProgressModel",
            "bar_style": "success",
            "max": 1000,
            "_view_module": "@jupyter-widgets/controls",
            "_model_module_version": "1.5.0",
            "value": 1000,
            "_view_count": null,
            "_view_module_version": "1.5.0",
            "orientation": "horizontal",
            "min": 0,
            "description_tooltip": null,
            "_model_module": "@jupyter-widgets/controls",
            "layout": "IPY_MODEL_9d0ab6bc4c3d4baa9ad774d947fbe2e1"
          }
        },
        "44f2424c83df4b73b575af7b55b7fd73": {
          "model_module": "@jupyter-widgets/controls",
          "model_name": "HTMLModel",
          "model_module_version": "1.5.0",
          "state": {
            "_view_name": "HTMLView",
            "style": "IPY_MODEL_6db979fd332344f79e885d331a9a0e22",
            "_dom_classes": [],
            "description": "",
            "_model_name": "HTMLModel",
            "placeholder": "​",
            "_view_module": "@jupyter-widgets/controls",
            "_model_module_version": "1.5.0",
            "value": " 1000/1000 [00:01&lt;00:00, 826.38it/s]",
            "_view_count": null,
            "_view_module_version": "1.5.0",
            "description_tooltip": null,
            "_model_module": "@jupyter-widgets/controls",
            "layout": "IPY_MODEL_d0107d9a1cc4496abe9cc80e02810d13"
          }
        },
        "4852b116b787481a9cdc00b930b3e8bf": {
          "model_module": "@jupyter-widgets/controls",
          "model_name": "DescriptionStyleModel",
          "model_module_version": "1.5.0",
          "state": {
            "_view_name": "StyleView",
            "_model_name": "DescriptionStyleModel",
            "description_width": "",
            "_view_module": "@jupyter-widgets/base",
            "_model_module_version": "1.5.0",
            "_view_count": null,
            "_view_module_version": "1.2.0",
            "_model_module": "@jupyter-widgets/controls"
          }
        },
        "61183f50e4734602a199d89e7c7c4955": {
          "model_module": "@jupyter-widgets/base",
          "model_name": "LayoutModel",
          "model_module_version": "1.2.0",
          "state": {
            "_view_name": "LayoutView",
            "grid_template_rows": null,
            "right": null,
            "justify_content": null,
            "_view_module": "@jupyter-widgets/base",
            "overflow": null,
            "_model_module_version": "1.2.0",
            "_view_count": null,
            "flex_flow": null,
            "width": null,
            "min_width": null,
            "border": null,
            "align_items": null,
            "bottom": null,
            "_model_module": "@jupyter-widgets/base",
            "top": null,
            "grid_column": null,
            "overflow_y": null,
            "overflow_x": null,
            "grid_auto_flow": null,
            "grid_area": null,
            "grid_template_columns": null,
            "flex": null,
            "_model_name": "LayoutModel",
            "justify_items": null,
            "grid_row": null,
            "max_height": null,
            "align_content": null,
            "visibility": null,
            "align_self": null,
            "height": null,
            "min_height": null,
            "padding": null,
            "grid_auto_rows": null,
            "grid_gap": null,
            "max_width": null,
            "order": null,
            "_view_module_version": "1.2.0",
            "grid_template_areas": null,
            "object_position": null,
            "object_fit": null,
            "grid_auto_columns": null,
            "margin": null,
            "display": null,
            "left": null
          }
        },
        "bb4e56b1db6e4167a7d211a3b316d4e4": {
          "model_module": "@jupyter-widgets/controls",
          "model_name": "ProgressStyleModel",
          "model_module_version": "1.5.0",
          "state": {
            "_view_name": "StyleView",
            "_model_name": "ProgressStyleModel",
            "description_width": "",
            "_view_module": "@jupyter-widgets/base",
            "_model_module_version": "1.5.0",
            "_view_count": null,
            "_view_module_version": "1.2.0",
            "bar_color": null,
            "_model_module": "@jupyter-widgets/controls"
          }
        },
        "9d0ab6bc4c3d4baa9ad774d947fbe2e1": {
          "model_module": "@jupyter-widgets/base",
          "model_name": "LayoutModel",
          "model_module_version": "1.2.0",
          "state": {
            "_view_name": "LayoutView",
            "grid_template_rows": null,
            "right": null,
            "justify_content": null,
            "_view_module": "@jupyter-widgets/base",
            "overflow": null,
            "_model_module_version": "1.2.0",
            "_view_count": null,
            "flex_flow": null,
            "width": null,
            "min_width": null,
            "border": null,
            "align_items": null,
            "bottom": null,
            "_model_module": "@jupyter-widgets/base",
            "top": null,
            "grid_column": null,
            "overflow_y": null,
            "overflow_x": null,
            "grid_auto_flow": null,
            "grid_area": null,
            "grid_template_columns": null,
            "flex": null,
            "_model_name": "LayoutModel",
            "justify_items": null,
            "grid_row": null,
            "max_height": null,
            "align_content": null,
            "visibility": null,
            "align_self": null,
            "height": null,
            "min_height": null,
            "padding": null,
            "grid_auto_rows": null,
            "grid_gap": null,
            "max_width": null,
            "order": null,
            "_view_module_version": "1.2.0",
            "grid_template_areas": null,
            "object_position": null,
            "object_fit": null,
            "grid_auto_columns": null,
            "margin": null,
            "display": null,
            "left": null
          }
        },
        "6db979fd332344f79e885d331a9a0e22": {
          "model_module": "@jupyter-widgets/controls",
          "model_name": "DescriptionStyleModel",
          "model_module_version": "1.5.0",
          "state": {
            "_view_name": "StyleView",
            "_model_name": "DescriptionStyleModel",
            "description_width": "",
            "_view_module": "@jupyter-widgets/base",
            "_model_module_version": "1.5.0",
            "_view_count": null,
            "_view_module_version": "1.2.0",
            "_model_module": "@jupyter-widgets/controls"
          }
        },
        "d0107d9a1cc4496abe9cc80e02810d13": {
          "model_module": "@jupyter-widgets/base",
          "model_name": "LayoutModel",
          "model_module_version": "1.2.0",
          "state": {
            "_view_name": "LayoutView",
            "grid_template_rows": null,
            "right": null,
            "justify_content": null,
            "_view_module": "@jupyter-widgets/base",
            "overflow": null,
            "_model_module_version": "1.2.0",
            "_view_count": null,
            "flex_flow": null,
            "width": null,
            "min_width": null,
            "border": null,
            "align_items": null,
            "bottom": null,
            "_model_module": "@jupyter-widgets/base",
            "top": null,
            "grid_column": null,
            "overflow_y": null,
            "overflow_x": null,
            "grid_auto_flow": null,
            "grid_area": null,
            "grid_template_columns": null,
            "flex": null,
            "_model_name": "LayoutModel",
            "justify_items": null,
            "grid_row": null,
            "max_height": null,
            "align_content": null,
            "visibility": null,
            "align_self": null,
            "height": null,
            "min_height": null,
            "padding": null,
            "grid_auto_rows": null,
            "grid_gap": null,
            "max_width": null,
            "order": null,
            "_view_module_version": "1.2.0",
            "grid_template_areas": null,
            "object_position": null,
            "object_fit": null,
            "grid_auto_columns": null,
            "margin": null,
            "display": null,
            "left": null
          }
        }
      }
    }
  },
  "cells": [
    {
      "cell_type": "markdown",
      "metadata": {
        "id": "view-in-github",
        "colab_type": "text"
      },
      "source": [
        "<a href=\"https://colab.research.google.com/github/bbRLdev/Modular-Reinforcement-Learning/blob/main/modular_q_learning.ipynb\" target=\"_parent\"><img src=\"https://colab.research.google.com/assets/colab-badge.svg\" alt=\"Open In Colab\"/></a>"
      ]
    },
    {
      "cell_type": "markdown",
      "metadata": {
        "id": "q5eQ74c-kREZ"
      },
      "source": [
        "# Imports"
      ]
    },
    {
      "cell_type": "code",
      "metadata": {
        "id": "LabZsJ3YQqqb"
      },
      "source": [
        "import random \n",
        "import time\n",
        "import numpy as np \n",
        "import matplotlib.pyplot as plt\n",
        "from IPython.display import clear_output\n",
        "from matplotlib.colors import LogNorm\n",
        "import numpy as np\n",
        "import matplotlib.pyplot as plt\n",
        "from matplotlib import cm\n",
        "from matplotlib.colors import ListedColormap, LinearSegmentedColormap\n",
        "import numpy as np\n",
        "import cv2\n",
        "from google.colab.patches import cv2_imshow\n",
        "from tqdm.notebook import tqdm\n",
        "\n",
        "SIDEWALK_LENGTH = 8 * 25 # 8 rows, 25 cols\n",
        "LITTER_CHANCE = .2\n",
        "WALL_CHANCE = .2\n",
        "NUM_ACTIONS = 4\n",
        "\n",
        "FORWARD = 0\n",
        "UP = 1\n",
        "DOWN = 2\n",
        "BACKWARDS = 3\n",
        "\n",
        "NORMAL = \"N\"\n",
        "OBSTACLE = \"O\"\n",
        "LITTER = \"L\""
      ],
      "execution_count": null,
      "outputs": []
    },
    {
      "cell_type": "markdown",
      "metadata": {
        "id": "JCNNelAAlAxy"
      },
      "source": [
        "# World Rules"
      ]
    },
    {
      "cell_type": "code",
      "metadata": {
        "id": "ebQfS_Rekvkx"
      },
      "source": [
        "def get_litter_and_obstacles():\n",
        "  all_litter, all_obstacles = [], []\n",
        "  for tile in range(SIDEWALK_LENGTH):\n",
        "    litter_decision = random.random()\n",
        "    wall_decision = random.random()\n",
        "    if LITTER_CHANCE > litter_decision:\n",
        "      all_litter.append(tile)\n",
        "    elif WALL_CHANCE > wall_decision:\n",
        "      all_obstacles.append(tile)\n",
        "  return all_litter, all_obstacles\n",
        "def gen_world():\n",
        "  world = [NORMAL for _ in range(SIDEWALK_LENGTH)]\n",
        "  for i in range(len(world)):\n",
        "    litter_decision = random.random()\n",
        "    wall_decision = random.random()\n",
        "    if LITTER_CHANCE > litter_decision:\n",
        "      world[i] = LITTER\n",
        "    elif WALL_CHANCE > wall_decision:\n",
        "      world[i] = OBSTACLE\n",
        "  return world\n",
        "def move(state, action):\n",
        "  row, col = state\n",
        "  if action == 0: # right\n",
        "    col += 1\n",
        "  elif action == 1: # up\n",
        "    row -= 1\n",
        "  elif action == 2: # down\n",
        "    row += 1\n",
        "  elif action == 3: # left\n",
        "    col -= 1\n",
        "  return row, col\n",
        "\n",
        "def get_legal_moves(state, sidewalk):\n",
        "  cur_row, cur_col = state\n",
        "  num_rows, num_cols = sidewalk.shape\n",
        "  legal_moves = []\n",
        "  for i in range(4):\n",
        "    row, col = move(state, i)\n",
        "    if row >= 0 and row < num_rows and col >= 0 and col < num_cols:\n",
        "      legal_moves.append(i)\n",
        "  return legal_moves\n",
        "\n",
        "def state_to_coordinate(sidewalk, state):\n",
        "  return (int(state / sidewalk.shape[1]), state % sidewalk.shape[1])\n",
        "def manhattan_dist(state1, state2):\n",
        "  return abs(state1[0]-state2[0]) + abs(state1[1]-state2[1])\n",
        "def coordinate_to_state(sidewalk, coordinate):\n",
        "  x, y = coordinate\n",
        "  return int(x * sidewalk.shape[1] + y)"
      ],
      "execution_count": null,
      "outputs": []
    },
    {
      "cell_type": "markdown",
      "metadata": {
        "id": "jxN35CTZjxSQ"
      },
      "source": [
        "# Q-Learning Methods"
      ]
    },
    {
      "cell_type": "code",
      "metadata": {
        "id": "tmFrEn6y4Zx-"
      },
      "source": [
        "def get_q_val_from_action(state, actions, q_table):\n",
        "    q_vals = []\n",
        "    sidewalk = center_module_world()\n",
        "    state_idx = coordinate_to_state(sidewalk, state)\n",
        "    for action in actions:\n",
        "        q_vals.append(q_table[state_idx, action])\n",
        "    return q_vals\n",
        "\n",
        "def steps(exploration_rate, sidewalk, state, q_table, food_reward=None):\n",
        "  exploration_rate_threshold = random.uniform(0, 1)\n",
        "  legal_moves = get_legal_moves(state, sidewalk)\n",
        "  # Exploitation\n",
        "  if exploration_rate_threshold > exploration_rate: \n",
        "    q_vals = get_q_val_from_action(state, legal_moves, q_table)\n",
        "    action = legal_moves[np.argmax(q_vals)]\n",
        "  # Exploration\n",
        "  else: \n",
        "    action_idx = random.randint(0, len(legal_moves)-1)\n",
        "    action = legal_moves[action_idx]\n",
        "  new_state = move(state, action)\n",
        "  return new_state, action\n",
        "\n",
        "def do_q_learning(num_trials, max_steps, learning_rate, discount_rate, explore_rate, max_explore_rate, min_explore_rate, explore_decay_rate, q_table, sidewalk, modules, food_reward=None):\n",
        "  rewards_all_trials = []\n",
        "  sidewalk_copy = np.copy(sidewalk)\n",
        "  for trial in tqdm(range(num_trials)):\n",
        "      done = False\n",
        "      reward_current_trial = 0\n",
        "      store_state = []\n",
        "      step = 0\n",
        "      state = (3,0)\n",
        "      if(food_reward != None):\n",
        "        sidewalk = sidewalk_copy\n",
        "      while not done and step < max_steps: \n",
        "        new_state, action = steps(explore_rate, sidewalk, state, q_table, food_reward)\n",
        "        reward = 0\n",
        "        for module in modules:\n",
        "          reward += module.get_reward(new_state, action)\n",
        "        state_idx = coordinate_to_state(sidewalk, state)\n",
        "        new_state_idx = coordinate_to_state(sidewalk, new_state)\n",
        "        q_table[state_idx, action] = q_table[state_idx, action] * (1 - learning_rate) + learning_rate * (reward + discount_rate * np.max(q_table[new_state_idx, :]))\n",
        "        state = new_state\n",
        "        reward_current_trial += reward \n",
        "        store_state.append(new_state_idx)  \n",
        "        if new_state[1] == 24:\n",
        "          done = True \n",
        "        step += 1\n",
        "      # Exploration rate decay\n",
        "      explore_rate = min_explore_rate + (max_explore_rate - min_explore_rate) * np.exp(-explore_decay_rate*trial)\n",
        "      rewards_all_trials.append(reward_current_trial)\n",
        "      for module in modules:\n",
        "        module.refresh()\n",
        "  return rewards_all_trials, q_table, store_state\n",
        "\n",
        "def make_q_table(size, num_directions):\n",
        "  q_table = np.zeros([size, num_directions])\n",
        "  q_table[0:25, 1:2] = np.NINF\n",
        "  q_table[175:200, 2:3] = np.NINF\n",
        "  q_table[0:176:25, 3:] = np.NINF\n",
        "  q_table[24:200:25, 0:1] = np.NINF\n",
        "  return q_table"
      ],
      "execution_count": null,
      "outputs": []
    },
    {
      "cell_type": "markdown",
      "metadata": {
        "id": "RAWbQoFZYFHn"
      },
      "source": [
        "# Visualization"
      ]
    },
    {
      "cell_type": "code",
      "metadata": {
        "id": "2cRn4uAGRpeo"
      },
      "source": [
        "\n",
        "def draw_grid(img, grid_shape, width, color=(0, 255, 0)):\n",
        "    h, w, _ = img.shape\n",
        "    rows, cols = grid_shape\n",
        "    dy, dx = h / rows, w / cols\n",
        "    print(img.shape)\n",
        "    # draw vertical lines\n",
        "    cv2.rectangle(img, (0, width), (img.shape[1], img.shape[0]-width), (105, 105, 105), -1)\n",
        "    for x in np.linspace(start=dx, stop=w-dx, num=cols-1):\n",
        "        x = int(round(x))\n",
        "        cv2.line(img, (x, 0), (x, h), color=color, thickness=1)\n",
        "    # draw horizontal lines\n",
        "    for y in np.linspace(start=dy, stop=h-dy, num=rows-1):\n",
        "        y = int(round(y))\n",
        "        cv2.line(img, (0, y), (w, y), color=color, thickness=1)\n",
        "          # Python program to explain cv2.circle() method\n",
        "    return img\n",
        "def draw_circle(img, states, width, sidewalk):\n",
        "  for state in states:\n",
        "    row, col = state_to_coordinate(sidewalk, state)\n",
        "    circle_center = (col * width + int(width/2), row * width + int(width/2))\n",
        "    cv2.circle(img, circle_center, int(width/2)-2, (0,0,255), 2)\n",
        "  return img\n",
        "def draw_litter_and_obstacles(img, width, sidewalk, litter, obstacles):\n",
        "  for trash in litter:\n",
        "    row, col = state_to_coordinate(sidewalk, trash)\n",
        "    cv2.rectangle(img, (col*width+20, row*width+20), (col*width+width-20, row*width+width-20), (128, 0, 128), -1)\n",
        "  for obstacle in obstacles:\n",
        "    row, col = state_to_coordinate(sidewalk, obstacle)\n",
        "    cv2.rectangle(img, (col*width+20, row*width+20), (col*width+width-20, row*width+width-20), (255, 0, 0), -1)\n",
        "  return img\n",
        "def draw_rewards(img, width, sidewalk):\n",
        "  fontScale = 1\n",
        "  color = (255, 255, 255)\n",
        "  font = cv2.FONT_HERSHEY_COMPLEX_SMALL\n",
        "  thickness = 1\n",
        "  for i in range((sidewalk.shape[0]*sidewalk.shape[1])):\n",
        "    row, col = state_to_coordinate(sidewalk, i)\n",
        "    text = str(sidewalk[row][col])\n",
        "    org = (int(col*width+width/4), int(row*width+width/2))\n",
        "    # Using cv2.putText() method\n",
        "    cv2.putText(img, text, org, font, fontScale, \n",
        "                    color, thickness, cv2.LINE_AA, False)\n",
        "  return img\n",
        "def show_sidewalk(sidewalk, states, litter, obstacles, width=100):\n",
        "  rows, cols = sidewalk.shape\n",
        "  canvas = np.zeros((rows*width, cols*width, 3), dtype=\"uint8\")\n",
        "  # draw a green line from the top-left corner of our canvas to the\n",
        "  # bottom-right\n",
        "  cv2.waitKey(0)\n",
        "  canvas = draw_grid(canvas, (len(sidewalk), len(sidewalk[0])), width)\n",
        "  canvas = draw_circle(canvas, states, width, sidewalk)\n",
        "  canvas = draw_litter_and_obstacles(canvas, width, sidewalk, litter, obstacles)\n",
        "  # canvas = draw_rewards(canvas, width, sidewalk)\n",
        "  cv2_imshow(canvas)\n",
        "  cv2.waitKey(0)"
      ],
      "execution_count": null,
      "outputs": []
    },
    {
      "cell_type": "markdown",
      "metadata": {
        "id": "1hfUsg7lp28x"
      },
      "source": [
        "# Module Classes"
      ]
    },
    {
      "cell_type": "code",
      "metadata": {
        "id": "OWagJQZxp1Af"
      },
      "source": [
        "class RL_Module():\n",
        "  def __init__(self, world):\n",
        "    self.world = world\n",
        "  def refresh(self):\n",
        "    pass\n",
        "    \n",
        "class Center_Module(RL_Module):\n",
        "  def __init__(self, world, reward, penalty):\n",
        "    super().__init__(world)\n",
        "    self.reward = reward\n",
        "    self.penalty = penalty\n",
        "  def get_reward(self, state, action):\n",
        "    row, col = state\n",
        "    if row == 0 or row == len(world) - 1:\n",
        "      return self.penalty\n",
        "    else:\n",
        "      return self.reward\n",
        "\n",
        "class Litter_Module(RL_Module):\n",
        "  def __init__(self, world, reward, penalty):\n",
        "    super().__init__(world)\n",
        "    self.reward = reward\n",
        "    self.penalty = penalty\n",
        "    self.litter_map = world\n",
        "  def get_reward(self, state, action):\n",
        "    sidewalk = center_module_world()\n",
        "    state_idx = coordinate_to_state(sidewalk, state)\n",
        "    val = self.reward\n",
        "    if world[state_idx] != LITTER:\n",
        "      val = self.penalty\n",
        "    else:\n",
        "      self.litter_map[state_idx] = NORMAL\n",
        "    return val\n",
        "  def refresh(self):\n",
        "    self.liter_map = self.world\n",
        "\n",
        "class Obstacle_Module(RL_Module):\n",
        "    def __init__(self, world, penalty):\n",
        "        super().__init__(world)\n",
        "        self.penalty = penalty\n",
        "    def get_reward(self, state, action):\n",
        "        sidewalk = center_module_world()\n",
        "        state_idx = coordinate_to_state(sidewalk, state)\n",
        "        if self.world[state_idx] == OBSTACLE:\n",
        "            return self.penalty\n",
        "        else:\n",
        "            return 0  \n",
        "class Forward_Module(RL_Module):\n",
        "    def __init__(self, world, back_penalty, side_penalty, reward):\n",
        "        super().__init__(world)\n",
        "        self.back_penalty = back_penalty\n",
        "        self.side_penalty = side_penalty\n",
        "        self.reward = reward\n",
        "    def get_reward(self, state, action):\n",
        "        if action == FORWARD:\n",
        "            return self.reward\n",
        "        if action == BACKWARDS:\n",
        "            return self.back_penalty\n",
        "        else:\n",
        "            return self.side_penalty"
      ],
      "execution_count": null,
      "outputs": []
    },
    {
      "cell_type": "markdown",
      "metadata": {
        "id": "W1dWrwUN8N6N"
      },
      "source": [
        "# Center Module"
      ]
    },
    {
      "cell_type": "code",
      "metadata": {
        "id": "dsJaEHou_5jS"
      },
      "source": [
        "def center_module_world(center_reward=0.0, penalty=-1.0):\n",
        "  state = np.zeros(SIDEWALK_LENGTH)\n",
        "  state = np.reshape(state, (8, 25))\n",
        "  num_rows = int(state.shape[0])\n",
        "  num_cols = int(state.shape[1])\n",
        "  state[1:-1] = center_reward\n",
        "  state[0][:] = penalty\n",
        "  state[-1][:] = penalty\n",
        "  return state"
      ],
      "execution_count": null,
      "outputs": []
    },
    {
      "cell_type": "code",
      "metadata": {
        "id": "MD2XQhhC8M8Z"
      },
      "source": [
        "\n",
        "# # Place Litter and Walls\n",
        "# total_trials = 5\n",
        "# max_steps_per_episode = 100\n",
        "\n",
        "# learning_rate = 1.0\n",
        "# discount_rate = 0.0\n",
        "\n",
        "# # exploration_rate = min_explore_rate + (max_explore_rate - min_explore_rate) * np.exp(-explore_decay_rate*trial)\n",
        "# exploration_rate =  1.0\n",
        "# max_exploration_rate = 1.0\n",
        "# min_exploration_rate = 0.001\n",
        "# exploration_decay_rate = 0.05\n",
        "\n",
        "# actions = 4\n",
        "\n",
        "# # Make Qmap\n",
        "# q_table_center = make_q_table(200, 4)\n",
        "# sidewalk = center_module_world(center_reward=3.0, penalty = -100.0)\n",
        "# rewards, q_table_center, path = do_q_learning(\n",
        "#     total_trials, \n",
        "#     max_steps_per_episode, \n",
        "#     learning_rate, \n",
        "#     discount_rate, \n",
        "#     exploration_rate, \n",
        "#     max_exploration_rate,\n",
        "#     min_exploration_rate, \n",
        "#     exploration_decay_rate, \n",
        "#     q_table_center,\n",
        "#     sidewalk)\n",
        "# show_sidewalk(sidewalk, path, [], [])\n",
        "# print(rewards[-1])\n",
        "# print(state_to_coordinate(sidewalk, path[-1]))\n",
        "# print(state_to_coordinate(sidewalk, path[-2]))\n",
        "# print(path)"
      ],
      "execution_count": null,
      "outputs": []
    },
    {
      "cell_type": "code",
      "metadata": {
        "colab": {
          "base_uri": "https://localhost:8080/",
          "height": 681,
          "referenced_widgets": [
            "12d06d6dc3d24628b8b9334439fd409d",
            "05c1e2277f5c47f580047289adad80f0",
            "5665c7c2634d4c74ae452faf756ed79b",
            "03e21291e2974e4a9d0c423427cdb1c4",
            "44f2424c83df4b73b575af7b55b7fd73",
            "4852b116b787481a9cdc00b930b3e8bf",
            "61183f50e4734602a199d89e7c7c4955",
            "bb4e56b1db6e4167a7d211a3b316d4e4",
            "9d0ab6bc4c3d4baa9ad774d947fbe2e1",
            "6db979fd332344f79e885d331a9a0e22",
            "d0107d9a1cc4496abe9cc80e02810d13"
          ]
        },
        "id": "lZmNDVwXuX5V",
        "outputId": "ee1b243b-92ed-427b-dae2-9440987c52ee"
      },
      "source": [
        "world = gen_world()\n",
        "print(world)\n",
        "litter = [index for index, element in enumerate(world) if element == LITTER]\n",
        "obstacles = [index for index, element in enumerate(world) if element == OBSTACLE]\n",
        "forward_module = Forward_Module(world, -1.0, 0.0, 1.0)\n",
        "obstacle_module = Obstacle_Module(world, -10.0)\n",
        "litter_module = Litter_Module(world, 10.0, -0.5)\n",
        "center_module = Center_Module(world, 0.1, -100.0)\n",
        "# Place Litter and Walls\n",
        "total_trials = 1000\n",
        "max_steps_per_episode = 100\n",
        "\n",
        "learning_rate = 1.0\n",
        "discount_rate = 0.0\n",
        "\n",
        "# exploration_rate = min_explore_rate + (max_explore_rate - min_explore_rate) * np.exp(-explore_decay_rate*trial)\n",
        "exploration_rate =  1.0\n",
        "max_exploration_rate = 1.0\n",
        "min_exploration_rate = 0.001\n",
        "exploration_decay_rate = 0.05\n",
        "\n",
        "actions = 4\n",
        "modules = [obstacle_module, litter_module, center_module, forward_module]\n",
        "# Make Qmap\n",
        "q_table = make_q_table(200, 4)\n",
        "sidewalk = center_module_world(center_reward=3.0, penalty = -100.0)\n",
        "rewards, q_table, path = do_q_learning(\n",
        "    total_trials, \n",
        "    max_steps_per_episode, \n",
        "    learning_rate, \n",
        "    discount_rate, \n",
        "    exploration_rate, \n",
        "    max_exploration_rate,\n",
        "    min_exploration_rate, \n",
        "    exploration_decay_rate, \n",
        "    q_table,\n",
        "    sidewalk,\n",
        "    modules)\n",
        "show_sidewalk(sidewalk, path, litter, obstacles)\n",
        "print(rewards[-1])\n",
        "print(state_to_coordinate(sidewalk, path[-1]))\n",
        "print(state_to_coordinate(sidewalk, path[-2]))\n",
        "print(path)"
      ],
      "execution_count": null,
      "outputs": [
        {
          "output_type": "stream",
          "name": "stdout",
          "text": [
            "['N', 'N', 'N', 'N', 'N', 'O', 'N', 'N', 'L', 'O', 'N', 'L', 'N', 'N', 'O', 'N', 'L', 'L', 'O', 'N', 'O', 'N', 'N', 'O', 'L', 'N', 'N', 'N', 'L', 'N', 'N', 'O', 'N', 'N', 'N', 'O', 'N', 'N', 'L', 'N', 'O', 'L', 'L', 'N', 'N', 'N', 'O', 'N', 'O', 'N', 'N', 'O', 'N', 'N', 'N', 'N', 'N', 'N', 'O', 'O', 'N', 'N', 'O', 'N', 'N', 'L', 'N', 'O', 'L', 'L', 'N', 'N', 'O', 'N', 'N', 'N', 'N', 'L', 'L', 'N', 'N', 'N', 'N', 'N', 'N', 'L', 'L', 'N', 'N', 'N', 'L', 'N', 'N', 'L', 'L', 'L', 'L', 'N', 'N', 'L', 'N', 'L', 'N', 'N', 'O', 'O', 'O', 'N', 'L', 'O', 'L', 'L', 'N', 'O', 'L', 'N', 'O', 'L', 'N', 'N', 'N', 'N', 'N', 'N', 'N', 'L', 'L', 'N', 'L', 'N', 'N', 'N', 'N', 'O', 'L', 'N', 'N', 'N', 'N', 'L', 'L', 'N', 'N', 'L', 'N', 'N', 'N', 'N', 'N', 'O', 'O', 'N', 'N', 'L', 'N', 'N', 'N', 'L', 'O', 'N', 'N', 'N', 'N', 'N', 'N', 'L', 'N', 'N', 'N', 'N', 'N', 'N', 'N', 'L', 'N', 'N', 'O', 'O', 'N', 'L', 'N', 'N', 'N', 'N', 'O', 'L', 'N', 'O', 'L', 'N', 'L', 'N', 'L', 'N', 'N', 'N', 'O', 'N', 'O', 'N']\n"
          ]
        },
        {
          "output_type": "display_data",
          "data": {
            "application/vnd.jupyter.widget-view+json": {
              "model_id": "12d06d6dc3d24628b8b9334439fd409d",
              "version_minor": 0,
              "version_major": 2
            },
            "text/plain": [
              "  0%|          | 0/1000 [00:00<?, ?it/s]"
            ]
          },
          "metadata": {}
        },
        {
          "output_type": "stream",
          "name": "stdout",
          "text": [
            "(800, 2500, 3)\n"
          ]
        },
        {
          "output_type": "display_data",
          "data": {
            "image/png": "[encoded data removed]",
            "text/plain": [
              "<PIL.Image.Image image mode=RGB size=2500x800 at 0x7F423A9CBCD0>"
            ]
          },
          "metadata": {}
        },
        {
          "output_type": "stream",
          "name": "stdout",
          "text": [
            "14.399999999999995\n",
            "(3, 24)\n",
            "(3, 23)\n",
            "[76, 77, 78, 79, 80, 81, 82, 83, 84, 85, 86, 87, 88, 89, 90, 91, 92, 93, 94, 95, 96, 97, 98, 99]\n"
          ]
        }
      ]
    },
    {
      "cell_type": "markdown",
      "metadata": {
        "id": "t59ZBOG9ki_v"
      },
      "source": [
        "# Move Forward Module"
      ]
    },
    {
      "cell_type": "code",
      "metadata": {
        "id": "eSa2AQAJlPjW"
      },
      "source": [
        "def forward_module_world():\n",
        "  state = np.zeros(SIDEWALK_LENGTH)\n",
        "  state = np.reshape(state, (8, 25))\n",
        "  state[:] = np.linspace(0, 3, 25)\n",
        "  print(state)\n",
        "  return state"
      ],
      "execution_count": null,
      "outputs": []
    },
    {
      "cell_type": "code",
      "metadata": {
        "id": "oBtR-1NGm4xd"
      },
      "source": [
        "\n",
        "total_trials = 100\n",
        "max_steps_per_episode = 100\n",
        "\n",
        "learning_rate = 1.0 \n",
        "discount_rate = 0.0\n",
        "\n",
        "# exploration_rate = min_explore_rate + (max_explore_rate - min_explore_rate) * np.exp(-explore_decay_rate*trial)\n",
        "exploration_rate =  1.0\n",
        "max_exploration_rate = 1.0\n",
        "min_exploration_rate = 0.001\n",
        "exploration_decay_rate = 0.05\n",
        "\n",
        "actions = 4\n",
        "\n",
        "# Make Qmap\n",
        "q_table_forward = make_q_table(200, 4)\n",
        "sidewalk = forward_module_world()\n",
        "rewards, q_table_forward, path = do_q_learning(\n",
        "    total_trials, \n",
        "    max_steps_per_episode, \n",
        "    learning_rate, \n",
        "    discount_rate, \n",
        "    exploration_rate, \n",
        "    max_exploration_rate,\n",
        "    min_exploration_rate, \n",
        "    exploration_decay_rate, \n",
        "    q_table_center,\n",
        "    sidewalk)\n",
        "trash, obstacles = get_litter_and_obstacles()\n",
        "show_sidewalk(sidewalk, path, trash, obstacles)"
      ],
      "execution_count": null,
      "outputs": []
    },
    {
      "cell_type": "markdown",
      "metadata": {
        "id": "Sh2OsJyxF90c"
      },
      "source": [
        "# Obstacle Module"
      ]
    },
    {
      "cell_type": "code",
      "metadata": {
        "id": "hmPUZWEOGKFp"
      },
      "source": [
        "def obstacle_module_world(penalty, obstacles):\n",
        "  state = np.zeros(SIDEWALK_LENGTH)\n",
        "  state[:] = 0.1\n",
        "  state = np.reshape(state, (8, 25))\n",
        "  for obstacle in obstacles:\n",
        "    row, col = state_to_coordinate(sidewalk, obstacle)\n",
        "    state[row][col] = penalty\n",
        "  return state"
      ],
      "execution_count": null,
      "outputs": []
    },
    {
      "cell_type": "code",
      "metadata": {
        "id": "40FDJhYMN4aQ"
      },
      "source": [
        "total_trials = 10000\n",
        "max_steps_per_episode = 100\n",
        "\n",
        "learning_rate = 1.0 \n",
        "discount_rate = 0.5\n",
        "\n",
        "# exploration_rate = min_explore_rate + (max_explore_rate - min_explore_rate) * np.exp(-explore_decay_rate*trial)\n",
        "exploration_rate =  1.0\n",
        "max_exploration_rate = 1.0\n",
        "min_exploration_rate = 0.001\n",
        "exploration_decay_rate = 0.05\n",
        "trash, obstacles = get_litter_and_obstacles()\n",
        "\n",
        "actions = 4\n",
        "# Make Qmap\n",
        "q_table_obstacle = make_q_table(200, 4)\n",
        "sidewalk = obstacle_module_world(-10.0, obstacles)\n",
        "rewards, q_table_obstacle, path = do_q_learning(\n",
        "    total_trials, \n",
        "    max_steps_per_episode, \n",
        "    learning_rate, \n",
        "    discount_rate, \n",
        "    exploration_rate, \n",
        "    max_exploration_rate,\n",
        "    min_exploration_rate, \n",
        "    exploration_decay_rate, \n",
        "    q_table_center,\n",
        "    sidewalk)\n",
        "show_sidewalk(sidewalk, path, trash, obstacles)\n",
        "len(path)\n",
        "print(rewards[-1])"
      ],
      "execution_count": null,
      "outputs": []
    },
    {
      "cell_type": "markdown",
      "metadata": {
        "id": "3X7Z45KCRWCi"
      },
      "source": [
        "# Litter module"
      ]
    },
    {
      "cell_type": "code",
      "metadata": {
        "id": "gRLNfG9zRU4l"
      },
      "source": [
        "def litter_module_world(reward, flat_value, litter):\n",
        "  state = np.zeros(SIDEWALK_LENGTH)\n",
        "  state[:] = flat_value\n",
        "  state = np.reshape(state, (8, 25))\n",
        "  for trash in litter:\n",
        "    row, col = state_to_coordinate(sidewalk, trash)\n",
        "    state[row][col] = reward\n",
        "  return state"
      ],
      "execution_count": null,
      "outputs": []
    },
    {
      "cell_type": "code",
      "metadata": {
        "id": "0jflnnPMRyLs"
      },
      "source": [
        "total_trials = 1\n",
        "max_steps_per_episode = 1000000\n",
        "\n",
        "learning_rate = 1.0 \n",
        "discount_rate = 0.2\n",
        "\n",
        "# exploration_rate = min_explore_rate + (max_explore_rate - min_explore_rate) * np.exp(-explore_decay_rate*trial)\n",
        "exploration_rate =  1.0\n",
        "max_exploration_rate = 1.0\n",
        "min_exploration_rate = 0.001\n",
        "exploration_decay_rate = 0.001\n",
        "trash, obstacles = get_litter_and_obstacles()\n",
        "\n",
        "actions = 4\n",
        "# Make Qmap\n",
        "q_table_obstacle = make_q_table(200, 4)\n",
        "food_reward = 10.0\n",
        "sidewalk = litter_module_world(food_reward,0.0, trash)\n",
        "rewards, q_table_obstacle, path = do_q_learning(\n",
        "    total_trials, \n",
        "    max_steps_per_episode, \n",
        "    learning_rate, \n",
        "    discount_rate, \n",
        "    exploration_rate, \n",
        "    max_exploration_rate,\n",
        "    min_exploration_rate, \n",
        "    exploration_decay_rate, \n",
        "    q_table_center,\n",
        "    sidewalk,\n",
        "    food_reward)\n",
        "show_sidewalk(sidewalk, path, trash, [])\n",
        "print(rewards[-1])"
      ],
      "execution_count": null,
      "outputs": []
    }
  ]
}